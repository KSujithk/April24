{
 "cells": [
  {
   "cell_type": "markdown",
   "metadata": {},
   "source": [
    "# Trying while loop"
   ]
  },
  {
   "cell_type": "code",
   "execution_count": 4,
   "metadata": {},
   "outputs": [
    {
     "name": "stdout",
     "output_type": "stream",
     "text": [
      "1\n",
      "2\n",
      "3\n",
      "4\n",
      "5\n",
      "6\n",
      "7\n",
      "8\n",
      "9\n",
      "10\n"
     ]
    }
   ],
   "source": [
    "# print all the numbers till 10\n",
    "index = 1\n",
    "while index <= 10:\n",
    "    print(index)\n",
    "    index += 1  #index = index + 1"
   ]
  },
  {
   "cell_type": "code",
   "execution_count": 6,
   "metadata": {},
   "outputs": [
    {
     "name": "stdout",
     "output_type": "stream",
     "text": [
      "2\n",
      "4\n",
      "6\n",
      "8\n"
     ]
    }
   ],
   "source": [
    "# print all even numbers below 10\n",
    "index = 1\n",
    "while index < 10:\n",
    "    if index%2 == 0:\n",
    "        print(index)\n",
    "    index += 1"
   ]
  },
  {
   "cell_type": "code",
   "execution_count": 11,
   "metadata": {},
   "outputs": [
    {
     "name": "stdout",
     "output_type": "stream",
     "text": [
      "2\n",
      "4\n",
      "6\n",
      "8\n",
      "end of program\n"
     ]
    }
   ],
   "source": [
    "index = 1\n",
    "while True:\n",
    "    if index%2 == 0:\n",
    "        print(index)\n",
    "    index += 1\n",
    "    if index >= 10:\n",
    "        break\n",
    "print(\"end of program\")"
   ]
  },
  {
   "cell_type": "code",
   "execution_count": 14,
   "metadata": {},
   "outputs": [
    {
     "name": "stdout",
     "output_type": "stream",
     "text": [
      "prime number\n"
     ]
    }
   ],
   "source": [
    "# lets find if the number is prime or not\n",
    "is_prime = True\n",
    "number = 7\n",
    "index = 2\n",
    "while index < number:\n",
    "    if number % index == 0:\n",
    "        is_prime = False\n",
    "        break\n",
    "    index += 1\n",
    "if is_prime:\n",
    "    print(\"prime number\")"
   ]
  },
  {
   "cell_type": "markdown",
   "metadata": {},
   "source": [
    "### Lets solve digital root problem\n",
    "input = 1729\n",
    "output = 1\n",
    "solution:\n",
    " 1 + 7 + 2 + 9 = 19 => 1 + 9 => 10 => 1 + 0 => 1\n",
    "\n",
    "input = 353\n",
    "output = 2\n",
    "solution:\n",
    "  3 + 5 + 3 = 11\n",
    "  1 + 1 = 2\n",
    "\n",
    "input = 9998\n",
    "output = 8\n",
    "solution:\n",
    "  9 + 9 + 9 + 8 = 35\n",
    "  35 => 3 + 5 => 8\n",
    "\n",
    "\n",
    "Approach: find individual digits and add them till result is < 10 or result is a single digit number"
   ]
  },
  {
   "cell_type": "code",
   "execution_count": 15,
   "metadata": {},
   "outputs": [
    {
     "name": "stdout",
     "output_type": "stream",
     "text": [
      "1\n"
     ]
    }
   ],
   "source": [
    "# We need to imporve this program down the line\n",
    "number = int(input(\"Enter the number: \"))\n",
    "result = 0\n",
    "while True:\n",
    "    result = result + (number%10)\n",
    "    number = number // 10\n",
    "    if result < 10 and number == 0:\n",
    "        break\n",
    "    if number == 0:\n",
    "        number = result\n",
    "        result = 0\n",
    "print(result)\n"
   ]
  },
  {
   "cell_type": "markdown",
   "metadata": {},
   "source": [
    "### 3n + 1 Problem\n",
    "Take input from user\n",
    "\n",
    "if input is even divide it by 2 and if it is odd calculate (3 * input + 1)\n",
    "continue doing the above step till the value becomes 1\n",
    "print all the transitions\n",
    "\n",
    "input = 4\n",
    "2\n",
    "1\n",
    "\n",
    "input = 5\n",
    "16\n",
    "8\n",
    "4\n",
    "2\n",
    "1"
   ]
  },
  {
   "cell_type": "code",
   "execution_count": 19,
   "metadata": {},
   "outputs": [
    {
     "name": "stdout",
     "output_type": "stream",
     "text": [
      "10\n",
      "5\n",
      "16\n",
      "8\n",
      "4\n",
      "2\n",
      "1\n",
      "1\n"
     ]
    }
   ],
   "source": [
    "number = 3\n",
    "\n",
    "while True:\n",
    "    if number == 1:\n",
    "        break\n",
    "    elif number%2 == 0: # even\n",
    "        number= number // 2\n",
    "    elif number%2 == 1: # odd\n",
    "        number = (number * 3) + 1\n",
    "    print(number)\n",
    "\n",
    "print(number)"
   ]
  },
  {
   "cell_type": "markdown",
   "metadata": {},
   "source": [
    "### Numerical sequence generator\n",
    "\n",
    "* range(start, stop, increment=1)"
   ]
  },
  {
   "cell_type": "code",
   "execution_count": 21,
   "metadata": {},
   "outputs": [
    {
     "name": "stdout",
     "output_type": "stream",
     "text": [
      "1\n",
      "2\n",
      "3\n",
      "4\n",
      "5\n",
      "6\n",
      "7\n",
      "8\n",
      "9\n"
     ]
    }
   ],
   "source": [
    "items = range(1, 10)\n",
    "for item in items:\n",
    "    print(item)"
   ]
  },
  {
   "cell_type": "code",
   "execution_count": 22,
   "metadata": {},
   "outputs": [
    {
     "name": "stdout",
     "output_type": "stream",
     "text": [
      "1\n",
      "3\n",
      "5\n",
      "7\n",
      "9\n"
     ]
    }
   ],
   "source": [
    "items = range(1, 10, 2)\n",
    "for item in items:\n",
    "    print(item)"
   ]
  },
  {
   "cell_type": "code",
   "execution_count": 24,
   "metadata": {},
   "outputs": [
    {
     "name": "stdout",
     "output_type": "stream",
     "text": [
      "10\n",
      "9\n",
      "8\n",
      "7\n",
      "6\n",
      "5\n",
      "4\n",
      "3\n",
      "2\n",
      "1\n"
     ]
    }
   ],
   "source": [
    "items = range(10, 0, -1)\n",
    "for item in items:\n",
    "    print(item)"
   ]
  },
  {
   "cell_type": "code",
   "execution_count": 26,
   "metadata": {},
   "outputs": [
    {
     "name": "stdout",
     "output_type": "stream",
     "text": [
      "233168\n"
     ]
    }
   ],
   "source": [
    "sum  = 0\n",
    "for number in range(1,1000):\n",
    "    if number % 3 == 0 or number % 5 == 0:\n",
    "        sum += number\n",
    "print(sum)"
   ]
  },
  {
   "cell_type": "code",
   "execution_count": 27,
   "metadata": {},
   "outputs": [
    {
     "name": "stdout",
     "output_type": "stream",
     "text": [
      "2\n",
      "4\n",
      "6\n",
      "8\n",
      "10\n"
     ]
    }
   ],
   "source": [
    "# print all even numbers from 1 to 100\n",
    "for number in range(1,11):\n",
    "    if number%2 == 0:\n",
    "        print(number)"
   ]
  },
  {
   "cell_type": "code",
   "execution_count": 37,
   "metadata": {},
   "outputs": [
    {
     "name": "stdout",
     "output_type": "stream",
     "text": [
      "Actual number is little bit higher than what you have guessed\n",
      "Actual number is little bit higher than what you have guessed\n",
      "Actual number is little bit higher than what you have guessed\n",
      "Actual number is little bit lower than what you have guessed\n",
      "Actual number is little bit lower than what you have guessed\n",
      "Actual number is little bit higher than what you have guessed\n",
      " Bad luck try again.  \n"
     ]
    }
   ],
   "source": [
    "# number guessing game\n",
    "# user will be given six chances\n",
    "\n",
    "# guess a number between 1 to 100\n",
    "import random\n",
    "random_number = random.randint(1,100)\n",
    "did_user_win = False\n",
    "for chance in range(6,0):\n",
    "    guessed_number = int(input(\"Enter your number: \"))\n",
    "    if guessed_number == random_number:\n",
    "        print(\"Hooray!... You have won\")\n",
    "        did_user_win = True\n",
    "        break\n",
    "    elif guessed_number > random_number:\n",
    "        print(\"Actual number is little bit lower than what you have guessed\")\n",
    "    else:\n",
    "        print(\"Actual number is little bit higher than what you have guessed\")\n",
    "    print(f\"you have {chance} more chances\")\n",
    "if not did_user_win:\n",
    "    print(\" Bad luck try again.  \")\n",
    "    \n"
   ]
  }
 ],
 "metadata": {
  "kernelspec": {
   "display_name": "Python 3",
   "language": "python",
   "name": "python3"
  },
  "language_info": {
   "codemirror_mode": {
    "name": "ipython",
    "version": 3
   },
   "file_extension": ".py",
   "mimetype": "text/x-python",
   "name": "python",
   "nbconvert_exporter": "python",
   "pygments_lexer": "ipython3",
   "version": "3.11.4"
  }
 },
 "nbformat": 4,
 "nbformat_minor": 2
}
