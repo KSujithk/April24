{
 "cells": [
  {
   "cell_type": "markdown",
   "metadata": {},
   "source": [
    "### Lets explore some of the magic methods "
   ]
  },
  {
   "cell_type": "code",
   "execution_count": 30,
   "metadata": {},
   "outputs": [],
   "source": [
    "class Point:\n",
    "    def __init__(self, x, y) -> None:\n",
    "        self.x = x\n",
    "        self.y = y\n",
    "    "
   ]
  },
  {
   "cell_type": "code",
   "execution_count": 32,
   "metadata": {},
   "outputs": [
    {
     "name": "stdout",
     "output_type": "stream",
     "text": [
      "<__main__.Point object at 0x000001EB74EB8110>\n"
     ]
    }
   ],
   "source": [
    "p1 = Point(3,5)\n",
    "print(p1)"
   ]
  },
  {
   "cell_type": "code",
   "execution_count": 33,
   "metadata": {},
   "outputs": [],
   "source": [
    "class Point:\n",
    "    def __init__(self, x, y) -> None:\n",
    "        self.x = x\n",
    "        self.y = y\n",
    "    \n",
    "    def __str__(self) -> str:\n",
    "        return f\"({self.x},{self.y})\""
   ]
  },
  {
   "cell_type": "code",
   "execution_count": 34,
   "metadata": {},
   "outputs": [
    {
     "name": "stdout",
     "output_type": "stream",
     "text": [
      "(3,5)\n"
     ]
    }
   ],
   "source": [
    "p1 = Point(3,5)\n",
    "print(p1)"
   ]
  },
  {
   "cell_type": "code",
   "execution_count": 35,
   "metadata": {},
   "outputs": [
    {
     "ename": "TypeError",
     "evalue": "unsupported operand type(s) for +: 'Point' and 'Point'",
     "output_type": "error",
     "traceback": [
      "\u001b[1;31m---------------------------------------------------------------------------\u001b[0m",
      "\u001b[1;31mTypeError\u001b[0m                                 Traceback (most recent call last)",
      "Cell \u001b[1;32mIn[35], line 4\u001b[0m\n\u001b[0;32m      2\u001b[0m p1 \u001b[38;5;241m=\u001b[39m Point(\u001b[38;5;241m3\u001b[39m,\u001b[38;5;241m5\u001b[39m)\n\u001b[0;32m      3\u001b[0m p2 \u001b[38;5;241m=\u001b[39m Point(\u001b[38;5;241m2\u001b[39m,\u001b[38;5;241m2\u001b[39m)\n\u001b[1;32m----> 4\u001b[0m \u001b[43mp1\u001b[49m\u001b[43m \u001b[49m\u001b[38;5;241;43m+\u001b[39;49m\u001b[43m \u001b[49m\u001b[43mp2\u001b[49m\n",
      "\u001b[1;31mTypeError\u001b[0m: unsupported operand type(s) for +: 'Point' and 'Point'"
     ]
    }
   ],
   "source": [
    "# Points can be added\n",
    "p1 = Point(3,5)\n",
    "p2 = Point(2,2)\n",
    "p1 + p2"
   ]
  },
  {
   "cell_type": "code",
   "execution_count": 36,
   "metadata": {},
   "outputs": [],
   "source": [
    "class Point:\n",
    "    def __init__(self, x, y) -> None:\n",
    "        self.x = x\n",
    "        self.y = y\n",
    "    \n",
    "    def __str__(self) -> str:\n",
    "        return f\"({self.x},{self.y})\"\n",
    "    \n",
    "    def __add__(self, other):\n",
    "        self.x += other.x\n",
    "        self.y += other.y"
   ]
  },
  {
   "cell_type": "code",
   "execution_count": 39,
   "metadata": {},
   "outputs": [
    {
     "name": "stdout",
     "output_type": "stream",
     "text": [
      "(5,7)\n"
     ]
    }
   ],
   "source": [
    "# Points can be added\n",
    "p1 = Point(3,5)\n",
    "p2 = Point(2,2)\n",
    "p1 + p2\n",
    "print(p1)"
   ]
  },
  {
   "cell_type": "code",
   "execution_count": 41,
   "metadata": {},
   "outputs": [
    {
     "data": {
      "text/plain": [
       "False"
      ]
     },
     "execution_count": 41,
     "metadata": {},
     "output_type": "execute_result"
    }
   ],
   "source": [
    "# Points can be added\n",
    "p1 = Point(2,2)\n",
    "p2 = Point(2,2)\n",
    "p1 == p2"
   ]
  },
  {
   "cell_type": "code",
   "execution_count": 42,
   "metadata": {},
   "outputs": [],
   "source": [
    "class Point:\n",
    "    def __init__(self, x, y) -> None:\n",
    "        self.x = x\n",
    "        self.y = y\n",
    "    \n",
    "    def __str__(self) -> str:\n",
    "        return f\"({self.x},{self.y})\"\n",
    "    \n",
    "    def __add__(self, other):\n",
    "        self.x += other.x\n",
    "        self.y += other.y\n",
    "\n",
    "    def __eq__(self, value: Point) -> bool:\n",
    "        return self.x == value.x and self.y == value.y\n",
    "        "
   ]
  },
  {
   "cell_type": "code",
   "execution_count": 43,
   "metadata": {},
   "outputs": [
    {
     "data": {
      "text/plain": [
       "True"
      ]
     },
     "execution_count": 43,
     "metadata": {},
     "output_type": "execute_result"
    }
   ],
   "source": [
    "# Points can be added\n",
    "p1 = Point(2,2)\n",
    "p2 = Point(2,2)\n",
    "p1 == p2"
   ]
  },
  {
   "cell_type": "code",
   "execution_count": 44,
   "metadata": {},
   "outputs": [],
   "source": [
    "def dump(obj):\n",
    "  for attr in dir(obj):\n",
    "    print(\"obj.%s = %r\" % (attr, getattr(obj, attr)))"
   ]
  },
  {
   "cell_type": "code",
   "execution_count": 45,
   "metadata": {},
   "outputs": [
    {
     "name": "stdout",
     "output_type": "stream",
     "text": [
      "obj.__add__ = <bound method Point.__add__ of <__main__.Point object at 0x000001EB74E06050>>\n",
      "obj.__class__ = <class '__main__.Point'>\n",
      "obj.__delattr__ = <method-wrapper '__delattr__' of Point object at 0x000001EB74E06050>\n",
      "obj.__dict__ = {'x': 2, 'y': 2}\n",
      "obj.__dir__ = <built-in method __dir__ of Point object at 0x000001EB74E06050>\n",
      "obj.__doc__ = None\n",
      "obj.__eq__ = <bound method Point.__eq__ of <__main__.Point object at 0x000001EB74E06050>>\n",
      "obj.__format__ = <built-in method __format__ of Point object at 0x000001EB74E06050>\n",
      "obj.__ge__ = <method-wrapper '__ge__' of Point object at 0x000001EB74E06050>\n",
      "obj.__getattribute__ = <method-wrapper '__getattribute__' of Point object at 0x000001EB74E06050>\n",
      "obj.__getstate__ = <built-in method __getstate__ of Point object at 0x000001EB74E06050>\n",
      "obj.__gt__ = <method-wrapper '__gt__' of Point object at 0x000001EB74E06050>\n",
      "obj.__hash__ = None\n",
      "obj.__init__ = <bound method Point.__init__ of <__main__.Point object at 0x000001EB74E06050>>\n",
      "obj.__init_subclass__ = <built-in method __init_subclass__ of type object at 0x000001EB73D17DD0>\n",
      "obj.__le__ = <method-wrapper '__le__' of Point object at 0x000001EB74E06050>\n",
      "obj.__lt__ = <method-wrapper '__lt__' of Point object at 0x000001EB74E06050>\n",
      "obj.__module__ = '__main__'\n",
      "obj.__ne__ = <method-wrapper '__ne__' of Point object at 0x000001EB74E06050>\n",
      "obj.__new__ = <built-in method __new__ of type object at 0x00007FF9C0768DF0>\n",
      "obj.__reduce__ = <built-in method __reduce__ of Point object at 0x000001EB74E06050>\n",
      "obj.__reduce_ex__ = <built-in method __reduce_ex__ of Point object at 0x000001EB74E06050>\n",
      "obj.__repr__ = <method-wrapper '__repr__' of Point object at 0x000001EB74E06050>\n",
      "obj.__setattr__ = <method-wrapper '__setattr__' of Point object at 0x000001EB74E06050>\n",
      "obj.__sizeof__ = <built-in method __sizeof__ of Point object at 0x000001EB74E06050>\n",
      "obj.__str__ = <bound method Point.__str__ of <__main__.Point object at 0x000001EB74E06050>>\n",
      "obj.__subclasshook__ = <built-in method __subclasshook__ of type object at 0x000001EB73D17DD0>\n",
      "obj.__weakref__ = None\n",
      "obj.x = 2\n",
      "obj.y = 2\n"
     ]
    }
   ],
   "source": [
    "dump(p1)"
   ]
  }
 ],
 "metadata": {
  "kernelspec": {
   "display_name": ".venv",
   "language": "python",
   "name": "python3"
  },
  "language_info": {
   "codemirror_mode": {
    "name": "ipython",
    "version": 3
   },
   "file_extension": ".py",
   "mimetype": "text/x-python",
   "name": "python",
   "nbconvert_exporter": "python",
   "pygments_lexer": "ipython3",
   "version": "3.11.4"
  }
 },
 "nbformat": 4,
 "nbformat_minor": 2
}
