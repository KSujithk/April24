{
 "cells": [
  {
   "cell_type": "markdown",
   "metadata": {},
   "source": [
    "### Playing with dictionaries"
   ]
  },
  {
   "cell_type": "code",
   "execution_count": null,
   "metadata": {},
   "outputs": [],
   "source": [
    "# empty_dictionary\n",
    "ipl_teams = {}"
   ]
  },
  {
   "cell_type": "code",
   "execution_count": 1,
   "metadata": {},
   "outputs": [],
   "source": [
    "# key is of type string and vaule is of type string\n",
    "ipl_teams = {\n",
    "    'Hyderabad': 'Sun Risers Hyderabad',\n",
    "    'Mumbai': 'Mumbai Indians'\n",
    "}"
   ]
  },
  {
   "cell_type": "code",
   "execution_count": 2,
   "metadata": {},
   "outputs": [
    {
     "data": {
      "text/plain": [
       "'Sun Risers Hyderabad'"
      ]
     },
     "execution_count": 2,
     "metadata": {},
     "output_type": "execute_result"
    }
   ],
   "source": [
    "# access values\n",
    "ipl_teams['Hyderabad']"
   ]
  },
  {
   "cell_type": "code",
   "execution_count": 3,
   "metadata": {},
   "outputs": [],
   "source": [
    "# set values\n",
    "ipl_teams['Chennai'] = 'Chennai Super Kings'"
   ]
  },
  {
   "cell_type": "code",
   "execution_count": 4,
   "metadata": {},
   "outputs": [
    {
     "data": {
      "text/plain": [
       "{'Hyderabad': 'Sun Risers Hyderabad',\n",
       " 'Mumbai': 'Mumbai Indians',\n",
       " 'Chennai': 'Chennai Super Kings'}"
      ]
     },
     "execution_count": 4,
     "metadata": {},
     "output_type": "execute_result"
    }
   ],
   "source": [
    "ipl_teams"
   ]
  },
  {
   "cell_type": "code",
   "execution_count": 9,
   "metadata": {},
   "outputs": [
    {
     "name": "stdout",
     "output_type": "stream",
     "text": [
      "city ==> team name\n",
      "-----------------------\n",
      "Hyderabad ==> Sun Risers Hyderabad\n",
      "Mumbai ==> Mumbai Indians\n",
      "Chennai ==> Chennai Super Kings\n"
     ]
    }
   ],
   "source": [
    "# loop through dictionary\n",
    "print('city ==> team name')\n",
    "print('-----------------------')\n",
    "for city, team_name in ipl_teams.items():\n",
    "    print(city, end=\" ==> \")\n",
    "    print(team_name)"
   ]
  },
  {
   "cell_type": "code",
   "execution_count": 10,
   "metadata": {},
   "outputs": [
    {
     "name": "stdout",
     "output_type": "stream",
     "text": [
      "Hyderabad\n",
      "Mumbai\n",
      "Chennai\n"
     ]
    }
   ],
   "source": [
    "# loop through keys\n",
    "for city in ipl_teams.keys():\n",
    "    print(city)"
   ]
  },
  {
   "cell_type": "code",
   "execution_count": 11,
   "metadata": {},
   "outputs": [
    {
     "name": "stdout",
     "output_type": "stream",
     "text": [
      "Sun Risers Hyderabad\n",
      "Mumbai Indians\n",
      "Chennai Super Kings\n"
     ]
    }
   ],
   "source": [
    "# loop through values\n",
    "for team_name in ipl_teams.values():\n",
    "    print(team_name)"
   ]
  },
  {
   "cell_type": "code",
   "execution_count": 14,
   "metadata": {},
   "outputs": [
    {
     "name": "stdout",
     "output_type": "stream",
     "text": [
      "<class 'str'>\n",
      "Hyderabad\n",
      "Sun Risers Hyderabad\n",
      "<class 'str'>\n",
      "Mumbai\n",
      "Mumbai Indians\n",
      "<class 'str'>\n",
      "Chennai\n",
      "Chennai Super Kings\n"
     ]
    }
   ],
   "source": [
    "for team in ipl_teams:\n",
    "    print(type(team))\n",
    "    print(team)\n",
    "    print(ipl_teams[team])"
   ]
  },
  {
   "cell_type": "code",
   "execution_count": 15,
   "metadata": {},
   "outputs": [
    {
     "data": {
      "text/plain": [
       "{'Hyderabad': 'Sun Risers Hyderabad',\n",
       " 'Mumbai': 'Mumbai Indians',\n",
       " 'Chennai': 'Chennai Super Kings'}"
      ]
     },
     "execution_count": 15,
     "metadata": {},
     "output_type": "execute_result"
    }
   ],
   "source": [
    "ipl_teams"
   ]
  },
  {
   "cell_type": "code",
   "execution_count": 16,
   "metadata": {},
   "outputs": [
    {
     "ename": "KeyError",
     "evalue": "'Delhi'",
     "output_type": "error",
     "traceback": [
      "\u001b[1;31m---------------------------------------------------------------------------\u001b[0m",
      "\u001b[1;31mKeyError\u001b[0m                                  Traceback (most recent call last)",
      "Cell \u001b[1;32mIn[16], line 2\u001b[0m\n\u001b[0;32m      1\u001b[0m \u001b[38;5;66;03m# trying to access a non existent team\u001b[39;00m\n\u001b[1;32m----> 2\u001b[0m \u001b[43mipl_teams\u001b[49m\u001b[43m[\u001b[49m\u001b[38;5;124;43m'\u001b[39;49m\u001b[38;5;124;43mDelhi\u001b[39;49m\u001b[38;5;124;43m'\u001b[39;49m\u001b[43m]\u001b[49m\n",
      "\u001b[1;31mKeyError\u001b[0m: 'Delhi'"
     ]
    }
   ],
   "source": [
    "# trying to access a non existent team\n",
    "ipl_teams['Delhi']"
   ]
  },
  {
   "cell_type": "code",
   "execution_count": 18,
   "metadata": {},
   "outputs": [
    {
     "name": "stdout",
     "output_type": "stream",
     "text": [
      "None\n"
     ]
    }
   ],
   "source": [
    "result = ipl_teams.get('Delhi')\n",
    "print(result)"
   ]
  },
  {
   "cell_type": "code",
   "execution_count": 19,
   "metadata": {},
   "outputs": [],
   "source": [
    "# copying dictionaries\n",
    "my_ipl_teams = ipl_teams\n",
    "my_ipl_teams['Delhi'] = 'Delhi Capitals'"
   ]
  },
  {
   "cell_type": "code",
   "execution_count": 20,
   "metadata": {},
   "outputs": [
    {
     "data": {
      "text/plain": [
       "{'Hyderabad': 'Sun Risers Hyderabad',\n",
       " 'Mumbai': 'Mumbai Indians',\n",
       " 'Chennai': 'Chennai Super Kings',\n",
       " 'Delhi': 'Delhi Capitals'}"
      ]
     },
     "execution_count": 20,
     "metadata": {},
     "output_type": "execute_result"
    }
   ],
   "source": [
    "ipl_teams"
   ]
  },
  {
   "cell_type": "code",
   "execution_count": 21,
   "metadata": {},
   "outputs": [],
   "source": [
    "my_other_ipl_teams = ipl_teams.copy()"
   ]
  },
  {
   "cell_type": "code",
   "execution_count": 22,
   "metadata": {},
   "outputs": [],
   "source": [
    "my_other_ipl_teams['Bangalore'] = 'Royal Challengers Bengaluru'"
   ]
  },
  {
   "cell_type": "code",
   "execution_count": 23,
   "metadata": {},
   "outputs": [
    {
     "data": {
      "text/plain": [
       "{'Hyderabad': 'Sun Risers Hyderabad',\n",
       " 'Mumbai': 'Mumbai Indians',\n",
       " 'Chennai': 'Chennai Super Kings',\n",
       " 'Delhi': 'Delhi Capitals'}"
      ]
     },
     "execution_count": 23,
     "metadata": {},
     "output_type": "execute_result"
    }
   ],
   "source": [
    "ipl_teams"
   ]
  }
 ],
 "metadata": {
  "kernelspec": {
   "display_name": ".venv",
   "language": "python",
   "name": "python3"
  },
  "language_info": {
   "codemirror_mode": {
    "name": "ipython",
    "version": 3
   },
   "file_extension": ".py",
   "mimetype": "text/x-python",
   "name": "python",
   "nbconvert_exporter": "python",
   "pygments_lexer": "ipython3",
   "version": "3.11.4"
  }
 },
 "nbformat": 4,
 "nbformat_minor": 2
}
