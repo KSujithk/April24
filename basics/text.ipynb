{
 "cells": [
  {
   "cell_type": "markdown",
   "metadata": {},
   "source": [
    "## Lets play with text"
   ]
  },
  {
   "cell_type": "code",
   "execution_count": 56,
   "metadata": {},
   "outputs": [],
   "source": [
    "name = \"ishika\""
   ]
  },
  {
   "cell_type": "markdown",
   "metadata": {},
   "source": [
    "### Do the following operations\n",
    "* convert into uppercase, lowercase, title\n",
    "* Print Message which is `Hello <name>, Welcome`\n",
    "* compare strings\n",
    "* string concatenation\n",
    "* format\n",
    "* f-strings"
   ]
  },
  {
   "cell_type": "code",
   "execution_count": 57,
   "metadata": {},
   "outputs": [
    {
     "data": {
      "text/plain": [
       "'akihsi'"
      ]
     },
     "execution_count": 57,
     "metadata": {},
     "output_type": "execute_result"
    }
   ],
   "source": [
    "# string is a sequence of characters\n",
    "# we can use slicing\n",
    "# reverse of string\n",
    "name[::-1]"
   ]
  },
  {
   "cell_type": "code",
   "execution_count": 58,
   "metadata": {},
   "outputs": [
    {
     "name": "stdout",
     "output_type": "stream",
     "text": [
      "ihk\n",
      "sia\n"
     ]
    }
   ],
   "source": [
    "print(name[::2])\n",
    "print(name[1::2])"
   ]
  },
  {
   "cell_type": "code",
   "execution_count": 59,
   "metadata": {},
   "outputs": [
    {
     "data": {
      "text/plain": [
       "'Hello , ishika'"
      ]
     },
     "execution_count": 59,
     "metadata": {},
     "output_type": "execute_result"
    }
   ],
   "source": [
    "# concatenation\n",
    "\"Hello , \" + name"
   ]
  },
  {
   "cell_type": "code",
   "execution_count": 60,
   "metadata": {},
   "outputs": [
    {
     "data": {
      "text/plain": [
       "'Hello , ishika'"
      ]
     },
     "execution_count": 60,
     "metadata": {},
     "output_type": "execute_result"
    }
   ],
   "source": [
    "f\"Hello , {name}\""
   ]
  },
  {
   "cell_type": "code",
   "execution_count": 61,
   "metadata": {},
   "outputs": [
    {
     "data": {
      "text/plain": [
       "'Hello, ishika'"
      ]
     },
     "execution_count": 61,
     "metadata": {},
     "output_type": "execute_result"
    }
   ],
   "source": [
    "\"Hello, {name}\".format(name=\"ishika\")"
   ]
  },
  {
   "cell_type": "code",
   "execution_count": 62,
   "metadata": {},
   "outputs": [
    {
     "name": "stdout",
     "output_type": "stream",
     "text": [
      "is 1 alphanumeric? => True\n",
      "is 1 numeric? => True\n"
     ]
    }
   ],
   "source": [
    "#isX methods\n",
    "# is alpha numberic\n",
    "value = \"1\"\n",
    "result = value.isalnum()\n",
    "print(f\"is {value} alphanumeric? => {result}\")\n",
    "result = value.isnumeric()\n",
    "print(f\"is {value} numeric? => {result}\")\n"
   ]
  },
  {
   "cell_type": "code",
   "execution_count": 63,
   "metadata": {},
   "outputs": [
    {
     "name": "stdout",
     "output_type": "stream",
     "text": [
      "abc1 is alphanumeric\n"
     ]
    }
   ],
   "source": [
    "value = \"abc1\"\n",
    "if value.isnumeric():\n",
    "    print(f\"{value} is integer\")\n",
    "elif value.isalpha():\n",
    "    print(f\"{value} is alphabetic\")\n",
    "elif value.isalnum():\n",
    "    print(f\"{value} is alphanumeric\")"
   ]
  },
  {
   "cell_type": "code",
   "execution_count": 64,
   "metadata": {},
   "outputs": [
    {
     "name": "stdout",
     "output_type": "stream",
     "text": [
      "title case => Ishika\n",
      "ISHIKA\n",
      "Ishika\n",
      "ishika\n"
     ]
    }
   ],
   "source": [
    "# casing\n",
    "name = \"ishika\"\n",
    "title_case = name.title()\n",
    "print(f\"title case => {title_case}\")\n",
    "print(name.upper())\n",
    "print(name.capitalize())\n",
    "print(name.lower())"
   ]
  },
  {
   "cell_type": "code",
   "execution_count": 65,
   "metadata": {},
   "outputs": [
    {
     "name": "stdout",
     "output_type": "stream",
     "text": [
      "Aws\n"
     ]
    }
   ],
   "source": [
    "name = \"aws\"\n",
    "if name.islower():\n",
    "    name = name.capitalize()\n",
    "print(name)"
   ]
  },
  {
   "cell_type": "code",
   "execution_count": 66,
   "metadata": {},
   "outputs": [
    {
     "name": "stdout",
     "output_type": "stream",
     "text": [
      "black,white,green,red\n"
     ]
    }
   ],
   "source": [
    "colors = ['black', 'white', 'green', 'red']\n",
    "# print in one line or combine into one string\n",
    "fav_colors = \",\".join(colors)\n",
    "print(fav_colors)"
   ]
  },
  {
   "cell_type": "code",
   "execution_count": 67,
   "metadata": {},
   "outputs": [
    {
     "name": "stdout",
     "output_type": "stream",
     "text": [
      "       Ishika   \n",
      "Ishika\n",
      "       Ishika\n",
      "Ishika   \n"
     ]
    }
   ],
   "source": [
    "# trimming strings\n",
    "name = \"       Ishika   \"\n",
    "print(name)\n",
    "print(name.strip())\n",
    "print(name.rstrip())\n",
    "print(name.lstrip())"
   ]
  },
  {
   "cell_type": "code",
   "execution_count": 68,
   "metadata": {},
   "outputs": [
    {
     "name": "stdout",
     "output_type": "stream",
     "text": [
      "('Aws ', 'is', ' first cloud')\n"
     ]
    }
   ],
   "source": [
    "word = \"Aws is first cloud\"\n",
    "result = word.partition('is')\n",
    "print(result)"
   ]
  },
  {
   "cell_type": "code",
   "execution_count": 69,
   "metadata": {},
   "outputs": [
    {
     "name": "stdout",
     "output_type": "stream",
     "text": [
      "Hello   \n",
      "How are you   \n",
      "Things are great here  \n",
      "['Hello   ', 'How are you   ', 'Things are great here  ']\n",
      "words are ['Hello']\n",
      "words are ['How', 'are', 'you']\n",
      "words are ['Things', 'are', 'great', 'here']\n",
      "Total number of words are 8\n"
     ]
    }
   ],
   "source": [
    "statement = \"\"\"Hello   \n",
    "How are you   \n",
    "Things are great here  \"\"\"\n",
    "print(statement)\n",
    "lines = statement.split('\\n')\n",
    "print(lines)\n",
    "word_count = 0\n",
    "for line in lines:\n",
    "    words = line.strip().split(' ')\n",
    "    word_count += len(words)\n",
    "    print(f\"words are {words}\")\n",
    "print(f\"Total number of words are {word_count}\")\n"
   ]
  },
  {
   "cell_type": "code",
   "execution_count": 70,
   "metadata": {},
   "outputs": [
    {
     "name": "stdout",
     "output_type": "stream",
     "text": [
      "C:\test\test.py\n"
     ]
    }
   ],
   "source": [
    "# escape sequences\n",
    "path = \"C:\\test\\test.py\"\n",
    "print(path)"
   ]
  },
  {
   "cell_type": "code",
   "execution_count": 71,
   "metadata": {},
   "outputs": [
    {
     "name": "stdout",
     "output_type": "stream",
     "text": [
      "C:\\test\\test.py\n"
     ]
    }
   ],
   "source": [
    "# To ignore escape sequences use raw format\n",
    "path = r'C:\\test\\test.py'\n",
    "print(path)"
   ]
  },
  {
   "cell_type": "code",
   "execution_count": 72,
   "metadata": {},
   "outputs": [
    {
     "name": "stdout",
     "output_type": "stream",
     "text": [
      "C:\\test\\test.py\n"
     ]
    }
   ],
   "source": [
    "path = \"C:\\\\test\\\\test.py\"\n",
    "print(path)"
   ]
  },
  {
   "cell_type": "code",
   "execution_count": 76,
   "metadata": {},
   "outputs": [
    {
     "name": "stdout",
     "output_type": "stream",
     "text": [
      "Hello how 're you \n"
     ]
    }
   ],
   "source": [
    "message = \"Hello how 're you \"\n",
    "print(message)"
   ]
  },
  {
   "cell_type": "code",
   "execution_count": 78,
   "metadata": {},
   "outputs": [
    {
     "ename": "SyntaxError",
     "evalue": "unterminated string literal (detected at line 1) (1278061023.py, line 1)",
     "output_type": "error",
     "traceback": [
      "\u001b[1;36m  Cell \u001b[1;32mIn[78], line 1\u001b[1;36m\u001b[0m\n\u001b[1;33m    message = 'Hello how 're you '\u001b[0m\n\u001b[1;37m                                 ^\u001b[0m\n\u001b[1;31mSyntaxError\u001b[0m\u001b[1;31m:\u001b[0m unterminated string literal (detected at line 1)\n"
     ]
    }
   ],
   "source": [
    "message = 'Hello how 're you '\n",
    "print(message)"
   ]
  },
  {
   "cell_type": "code",
   "execution_count": 79,
   "metadata": {},
   "outputs": [
    {
     "name": "stdout",
     "output_type": "stream",
     "text": [
      "Hello how 're you \n"
     ]
    }
   ],
   "source": [
    "message = 'Hello how \\'re you '\n",
    "print(message)"
   ]
  }
 ],
 "metadata": {
  "kernelspec": {
   "display_name": "Python 3",
   "language": "python",
   "name": "python3"
  },
  "language_info": {
   "codemirror_mode": {
    "name": "ipython",
    "version": 3
   },
   "file_extension": ".py",
   "mimetype": "text/x-python",
   "name": "python",
   "nbconvert_exporter": "python",
   "pygments_lexer": "ipython3",
   "version": "3.11.4"
  }
 },
 "nbformat": 4,
 "nbformat_minor": 2
}
