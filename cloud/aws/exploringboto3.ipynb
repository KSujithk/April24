{
 "cells": [
  {
   "cell_type": "code",
   "execution_count": 2,
   "metadata": {},
   "outputs": [],
   "source": [
    "# create an s3 client\n",
    "import boto3"
   ]
  },
  {
   "cell_type": "code",
   "execution_count": 3,
   "metadata": {},
   "outputs": [],
   "source": [
    "# create an s3 client\n",
    "client = boto3.client('s3')"
   ]
  },
  {
   "cell_type": "code",
   "execution_count": 4,
   "metadata": {},
   "outputs": [
    {
     "data": {
      "text/plain": [
       "botocore.client.S3"
      ]
     },
     "execution_count": 4,
     "metadata": {},
     "output_type": "execute_result"
    }
   ],
   "source": [
    "type(client)"
   ]
  },
  {
   "cell_type": "code",
   "execution_count": 7,
   "metadata": {},
   "outputs": [],
   "source": [
    "# create a bucket\n",
    "response = client.create_bucket(\n",
    "    ACL='private',\n",
    "    Bucket='qtfrompythonmay11',\n",
    "    CreateBucketConfiguration={\n",
    "        'LocationConstraint': 'ap-south-1'\n",
    "    }\n",
    ")"
   ]
  },
  {
   "cell_type": "code",
   "execution_count": 9,
   "metadata": {},
   "outputs": [
    {
     "name": "stdout",
     "output_type": "stream",
     "text": [
      "{'ResponseMetadata': {'RequestId': 'YG4YFA0GS3Q80QD6', 'HostId': 'cPwBd6EWZ1UKI6ufcHGU63j1sdPKsA40VIlgbLzwJHN7+UGhloWNJ4U7L59s1eJ+jxQtw3VXanU=', 'HTTPStatusCode': 200, 'HTTPHeaders': {'x-amz-id-2': 'cPwBd6EWZ1UKI6ufcHGU63j1sdPKsA40VIlgbLzwJHN7+UGhloWNJ4U7L59s1eJ+jxQtw3VXanU=', 'x-amz-request-id': 'YG4YFA0GS3Q80QD6', 'date': 'Sat, 11 May 2024 12:17:25 GMT', 'location': 'http://qtfrompythonmay11.s3.amazonaws.com/', 'server': 'AmazonS3', 'content-length': '0'}, 'RetryAttempts': 0}, 'Location': 'http://qtfrompythonmay11.s3.amazonaws.com/'}\n",
      "<class 'dict'>\n"
     ]
    }
   ],
   "source": [
    "print(response)\n",
    "print(type(response))"
   ]
  },
  {
   "cell_type": "code",
   "execution_count": 10,
   "metadata": {},
   "outputs": [
    {
     "data": {
      "text/plain": [
       "{'ResponseMetadata': {'RequestId': 'ZYF41MKTAAMV28QE',\n",
       "  'HostId': 'cR3GNsKjBVRXN369pvRk2gJ3ISMukPXZZK9tqujSgBV5nJrwkKbS0rGy0zjoN4e5NxYhMMDSx6JrL6vFbtheUQ==',\n",
       "  'HTTPStatusCode': 204,\n",
       "  'HTTPHeaders': {'x-amz-id-2': 'cR3GNsKjBVRXN369pvRk2gJ3ISMukPXZZK9tqujSgBV5nJrwkKbS0rGy0zjoN4e5NxYhMMDSx6JrL6vFbtheUQ==',\n",
       "   'x-amz-request-id': 'ZYF41MKTAAMV28QE',\n",
       "   'date': 'Sat, 11 May 2024 12:19:14 GMT',\n",
       "   'server': 'AmazonS3'},\n",
       "  'RetryAttempts': 0}}"
      ]
     },
     "execution_count": 10,
     "metadata": {},
     "output_type": "execute_result"
    }
   ],
   "source": [
    "client.delete_bucket(Bucket='qtfrompythonmay11')"
   ]
  },
  {
   "cell_type": "code",
   "execution_count": null,
   "metadata": {},
   "outputs": [],
   "source": []
  }
 ],
 "metadata": {
  "kernelspec": {
   "display_name": ".venv",
   "language": "python",
   "name": "python3"
  },
  "language_info": {
   "codemirror_mode": {
    "name": "ipython",
    "version": 3
   },
   "file_extension": ".py",
   "mimetype": "text/x-python",
   "name": "python",
   "nbconvert_exporter": "python",
   "pygments_lexer": "ipython3",
   "version": "3.11.4"
  }
 },
 "nbformat": 4,
 "nbformat_minor": 2
}
